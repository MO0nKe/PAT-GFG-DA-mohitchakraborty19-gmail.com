{
 "cells": [
  {
   "cell_type": "code",
   "execution_count": 1,
   "id": "0a3c9780",
   "metadata": {},
   "outputs": [],
   "source": [
    "import pandas as pd\n",
    "import numpy as np\n",
    "import seaborn as sns\n",
    "import matplotlib.pyplot as plt\n",
    "%matplotlib inline"
   ]
  },
  {
   "cell_type": "code",
   "execution_count": 2,
   "id": "553d4dc0",
   "metadata": {},
   "outputs": [],
   "source": [
    "pd.set_option('display.max_columns', None)"
   ]
  },
  {
   "cell_type": "code",
   "execution_count": 3,
   "id": "a72e9307",
   "metadata": {
    "scrolled": true
   },
   "outputs": [
    {
     "data": {
      "text/html": [
       "<div>\n",
       "<style scoped>\n",
       "    .dataframe tbody tr th:only-of-type {\n",
       "        vertical-align: middle;\n",
       "    }\n",
       "\n",
       "    .dataframe tbody tr th {\n",
       "        vertical-align: top;\n",
       "    }\n",
       "\n",
       "    .dataframe thead th {\n",
       "        text-align: right;\n",
       "    }\n",
       "</style>\n",
       "<table border=\"1\" class=\"dataframe\">\n",
       "  <thead>\n",
       "    <tr style=\"text-align: right;\">\n",
       "      <th></th>\n",
       "      <th>Country</th>\n",
       "      <th>League</th>\n",
       "      <th>Club</th>\n",
       "      <th>Player Names</th>\n",
       "      <th>Matches_Played</th>\n",
       "      <th>Substitution</th>\n",
       "      <th>Mins</th>\n",
       "      <th>Goals</th>\n",
       "      <th>xG</th>\n",
       "      <th>xG Per Avg Match</th>\n",
       "      <th>Shots</th>\n",
       "      <th>OnTarget</th>\n",
       "      <th>Shots Per Avg Match</th>\n",
       "      <th>On Target Per Avg Match</th>\n",
       "      <th>Year</th>\n",
       "    </tr>\n",
       "  </thead>\n",
       "  <tbody>\n",
       "    <tr>\n",
       "      <th>0</th>\n",
       "      <td>Spain</td>\n",
       "      <td>La Liga</td>\n",
       "      <td>(BET)</td>\n",
       "      <td>Juanmi Callejon</td>\n",
       "      <td>19</td>\n",
       "      <td>16</td>\n",
       "      <td>1849</td>\n",
       "      <td>11</td>\n",
       "      <td>6.62</td>\n",
       "      <td>0.34</td>\n",
       "      <td>48</td>\n",
       "      <td>20</td>\n",
       "      <td>2.47</td>\n",
       "      <td>1.03</td>\n",
       "      <td>2016</td>\n",
       "    </tr>\n",
       "    <tr>\n",
       "      <th>1</th>\n",
       "      <td>Spain</td>\n",
       "      <td>La Liga</td>\n",
       "      <td>(BAR)</td>\n",
       "      <td>Antoine Griezmann</td>\n",
       "      <td>36</td>\n",
       "      <td>0</td>\n",
       "      <td>3129</td>\n",
       "      <td>16</td>\n",
       "      <td>11.86</td>\n",
       "      <td>0.36</td>\n",
       "      <td>88</td>\n",
       "      <td>41</td>\n",
       "      <td>2.67</td>\n",
       "      <td>1.24</td>\n",
       "      <td>2016</td>\n",
       "    </tr>\n",
       "    <tr>\n",
       "      <th>2</th>\n",
       "      <td>Spain</td>\n",
       "      <td>La Liga</td>\n",
       "      <td>(ATL)</td>\n",
       "      <td>Luis Suarez</td>\n",
       "      <td>34</td>\n",
       "      <td>1</td>\n",
       "      <td>2940</td>\n",
       "      <td>28</td>\n",
       "      <td>23.21</td>\n",
       "      <td>0.75</td>\n",
       "      <td>120</td>\n",
       "      <td>57</td>\n",
       "      <td>3.88</td>\n",
       "      <td>1.84</td>\n",
       "      <td>2016</td>\n",
       "    </tr>\n",
       "    <tr>\n",
       "      <th>3</th>\n",
       "      <td>Spain</td>\n",
       "      <td>La Liga</td>\n",
       "      <td>(CAR)</td>\n",
       "      <td>Ruben Castro</td>\n",
       "      <td>32</td>\n",
       "      <td>3</td>\n",
       "      <td>2842</td>\n",
       "      <td>13</td>\n",
       "      <td>14.06</td>\n",
       "      <td>0.47</td>\n",
       "      <td>117</td>\n",
       "      <td>42</td>\n",
       "      <td>3.91</td>\n",
       "      <td>1.40</td>\n",
       "      <td>2016</td>\n",
       "    </tr>\n",
       "    <tr>\n",
       "      <th>4</th>\n",
       "      <td>Spain</td>\n",
       "      <td>La Liga</td>\n",
       "      <td>(VAL)</td>\n",
       "      <td>Kevin Gameiro</td>\n",
       "      <td>21</td>\n",
       "      <td>10</td>\n",
       "      <td>1745</td>\n",
       "      <td>13</td>\n",
       "      <td>10.65</td>\n",
       "      <td>0.58</td>\n",
       "      <td>50</td>\n",
       "      <td>23</td>\n",
       "      <td>2.72</td>\n",
       "      <td>1.25</td>\n",
       "      <td>2016</td>\n",
       "    </tr>\n",
       "  </tbody>\n",
       "</table>\n",
       "</div>"
      ],
      "text/plain": [
       "  Country   League   Club       Player Names  Matches_Played  Substitution   \\\n",
       "0   Spain  La Liga  (BET)    Juanmi Callejon              19             16   \n",
       "1   Spain  La Liga  (BAR)  Antoine Griezmann              36              0   \n",
       "2   Spain  La Liga  (ATL)        Luis Suarez              34              1   \n",
       "3   Spain  La Liga  (CAR)       Ruben Castro              32              3   \n",
       "4   Spain  La Liga  (VAL)      Kevin Gameiro              21             10   \n",
       "\n",
       "   Mins  Goals     xG  xG Per Avg Match  Shots  OnTarget  Shots Per Avg Match  \\\n",
       "0  1849     11   6.62              0.34     48        20                 2.47   \n",
       "1  3129     16  11.86              0.36     88        41                 2.67   \n",
       "2  2940     28  23.21              0.75    120        57                 3.88   \n",
       "3  2842     13  14.06              0.47    117        42                 3.91   \n",
       "4  1745     13  10.65              0.58     50        23                 2.72   \n",
       "\n",
       "   On Target Per Avg Match  Year  \n",
       "0                     1.03  2016  \n",
       "1                     1.24  2016  \n",
       "2                     1.84  2016  \n",
       "3                     1.40  2016  \n",
       "4                     1.25  2016  "
      ]
     },
     "execution_count": 3,
     "metadata": {},
     "output_type": "execute_result"
    }
   ],
   "source": [
    "df=pd.read_csv('soccer.csv')\n",
    "df.head()"
   ]
  },
  {
   "cell_type": "code",
   "execution_count": 4,
   "id": "2f09f1cb",
   "metadata": {},
   "outputs": [
    {
     "data": {
      "text/plain": [
       "(660, 15)"
      ]
     },
     "execution_count": 4,
     "metadata": {},
     "output_type": "execute_result"
    }
   ],
   "source": [
    "df.shape"
   ]
  },
  {
   "cell_type": "code",
   "execution_count": 5,
   "id": "63507e7d",
   "metadata": {},
   "outputs": [
    {
     "data": {
      "text/plain": [
       "Index(['Country', 'League', 'Club', 'Player Names', 'Matches_Played',\n",
       "       'Substitution ', 'Mins', 'Goals', 'xG', 'xG Per Avg Match', 'Shots',\n",
       "       'OnTarget', 'Shots Per Avg Match', 'On Target Per Avg Match', 'Year'],\n",
       "      dtype='object')"
      ]
     },
     "execution_count": 5,
     "metadata": {},
     "output_type": "execute_result"
    }
   ],
   "source": [
    "df.columns"
   ]
  },
  {
   "cell_type": "code",
   "execution_count": 6,
   "id": "cf9d24e4",
   "metadata": {},
   "outputs": [
    {
     "data": {
      "text/plain": [
       "Country                     object\n",
       "League                      object\n",
       "Club                        object\n",
       "Player Names                object\n",
       "Matches_Played               int64\n",
       "Substitution                 int64\n",
       "Mins                         int64\n",
       "Goals                        int64\n",
       "xG                         float64\n",
       "xG Per Avg Match           float64\n",
       "Shots                        int64\n",
       "OnTarget                     int64\n",
       "Shots Per Avg Match        float64\n",
       "On Target Per Avg Match    float64\n",
       "Year                         int64\n",
       "dtype: object"
      ]
     },
     "execution_count": 6,
     "metadata": {},
     "output_type": "execute_result"
    }
   ],
   "source": [
    "df.dtypes"
   ]
  },
  {
   "cell_type": "markdown",
   "id": "04b22d3a",
   "metadata": {},
   "source": [
    "# Q1: What is the total number of goals scored in the entire dataset?\n",
    "\n",
    "\n"
   ]
  },
  {
   "cell_type": "code",
   "execution_count": 7,
   "id": "d896e0e2",
   "metadata": {},
   "outputs": [],
   "source": [
    "goals = df['Goals'].sum()"
   ]
  },
  {
   "cell_type": "code",
   "execution_count": 8,
   "id": "841615b5",
   "metadata": {},
   "outputs": [
    {
     "name": "stdout",
     "output_type": "stream",
     "text": [
      "Total number of goals scored: 7795\n"
     ]
    }
   ],
   "source": [
    "print('Total number of goals scored: {}'.format(goals))"
   ]
  },
  {
   "cell_type": "markdown",
   "id": "f22670e9",
   "metadata": {},
   "source": [
    "# Q2: Which player has scored the most goals as a substitution"
   ]
  },
  {
   "cell_type": "code",
   "execution_count": 9,
   "id": "ae361292",
   "metadata": {},
   "outputs": [
    {
     "data": {
      "text/html": [
       "<div>\n",
       "<style scoped>\n",
       "    .dataframe tbody tr th:only-of-type {\n",
       "        vertical-align: middle;\n",
       "    }\n",
       "\n",
       "    .dataframe tbody tr th {\n",
       "        vertical-align: top;\n",
       "    }\n",
       "\n",
       "    .dataframe thead th {\n",
       "        text-align: right;\n",
       "    }\n",
       "</style>\n",
       "<table border=\"1\" class=\"dataframe\">\n",
       "  <thead>\n",
       "    <tr style=\"text-align: right;\">\n",
       "      <th></th>\n",
       "      <th>Country</th>\n",
       "      <th>League</th>\n",
       "      <th>Club</th>\n",
       "      <th>Player Names</th>\n",
       "      <th>Matches_Played</th>\n",
       "      <th>Substitution</th>\n",
       "      <th>Mins</th>\n",
       "      <th>Goals</th>\n",
       "      <th>xG</th>\n",
       "      <th>xG Per Avg Match</th>\n",
       "      <th>Shots</th>\n",
       "      <th>OnTarget</th>\n",
       "      <th>Shots Per Avg Match</th>\n",
       "      <th>On Target Per Avg Match</th>\n",
       "      <th>Year</th>\n",
       "    </tr>\n",
       "  </thead>\n",
       "  <tbody>\n",
       "    <tr>\n",
       "      <th>140</th>\n",
       "      <td>Germany</td>\n",
       "      <td>Bundesliga</td>\n",
       "      <td>(BAY)</td>\n",
       "      <td>Robert Lewandowski</td>\n",
       "      <td>24</td>\n",
       "      <td>6</td>\n",
       "      <td>2247</td>\n",
       "      <td>29</td>\n",
       "      <td>26.49</td>\n",
       "      <td>1.12</td>\n",
       "      <td>127</td>\n",
       "      <td>54</td>\n",
       "      <td>5.37</td>\n",
       "      <td>2.28</td>\n",
       "      <td>2017</td>\n",
       "    </tr>\n",
       "    <tr>\n",
       "      <th>24</th>\n",
       "      <td>Italy</td>\n",
       "      <td>Serie A</td>\n",
       "      <td>(NAP)</td>\n",
       "      <td>Dries Mertens</td>\n",
       "      <td>28</td>\n",
       "      <td>7</td>\n",
       "      <td>2671</td>\n",
       "      <td>28</td>\n",
       "      <td>21.65</td>\n",
       "      <td>0.77</td>\n",
       "      <td>148</td>\n",
       "      <td>102</td>\n",
       "      <td>5.26</td>\n",
       "      <td>3.63</td>\n",
       "      <td>2016</td>\n",
       "    </tr>\n",
       "    <tr>\n",
       "      <th>37</th>\n",
       "      <td>Italy</td>\n",
       "      <td>Serie A</td>\n",
       "      <td>(IMI)</td>\n",
       "      <td>Gonzalo Higuain</td>\n",
       "      <td>32</td>\n",
       "      <td>6</td>\n",
       "      <td>3138</td>\n",
       "      <td>24</td>\n",
       "      <td>17.84</td>\n",
       "      <td>0.54</td>\n",
       "      <td>134</td>\n",
       "      <td>91</td>\n",
       "      <td>4.06</td>\n",
       "      <td>2.75</td>\n",
       "      <td>2016</td>\n",
       "    </tr>\n",
       "    <tr>\n",
       "      <th>453</th>\n",
       "      <td>England</td>\n",
       "      <td>Premier League</td>\n",
       "      <td>(SOU)</td>\n",
       "      <td>Danny Ings</td>\n",
       "      <td>32</td>\n",
       "      <td>6</td>\n",
       "      <td>3009</td>\n",
       "      <td>22</td>\n",
       "      <td>16.79</td>\n",
       "      <td>0.53</td>\n",
       "      <td>93</td>\n",
       "      <td>37</td>\n",
       "      <td>2.94</td>\n",
       "      <td>1.17</td>\n",
       "      <td>2019</td>\n",
       "    </tr>\n",
       "    <tr>\n",
       "      <th>123</th>\n",
       "      <td>Italy</td>\n",
       "      <td>Serie A</td>\n",
       "      <td>(JUV)</td>\n",
       "      <td>Paulo Dybala</td>\n",
       "      <td>26</td>\n",
       "      <td>7</td>\n",
       "      <td>2407</td>\n",
       "      <td>22</td>\n",
       "      <td>11.40</td>\n",
       "      <td>0.45</td>\n",
       "      <td>114</td>\n",
       "      <td>45</td>\n",
       "      <td>4.50</td>\n",
       "      <td>1.78</td>\n",
       "      <td>2017</td>\n",
       "    </tr>\n",
       "    <tr>\n",
       "      <th>...</th>\n",
       "      <td>...</td>\n",
       "      <td>...</td>\n",
       "      <td>...</td>\n",
       "      <td>...</td>\n",
       "      <td>...</td>\n",
       "      <td>...</td>\n",
       "      <td>...</td>\n",
       "      <td>...</td>\n",
       "      <td>...</td>\n",
       "      <td>...</td>\n",
       "      <td>...</td>\n",
       "      <td>...</td>\n",
       "      <td>...</td>\n",
       "      <td>...</td>\n",
       "      <td>...</td>\n",
       "    </tr>\n",
       "    <tr>\n",
       "      <th>628</th>\n",
       "      <td>Brazil</td>\n",
       "      <td>Campeonato Brasileiro SÃ©rie A</td>\n",
       "      <td>(SAP)</td>\n",
       "      <td>Brenner None</td>\n",
       "      <td>9</td>\n",
       "      <td>6</td>\n",
       "      <td>1063</td>\n",
       "      <td>6</td>\n",
       "      <td>7.50</td>\n",
       "      <td>0.67</td>\n",
       "      <td>36</td>\n",
       "      <td>14</td>\n",
       "      <td>3.22</td>\n",
       "      <td>1.25</td>\n",
       "      <td>2020</td>\n",
       "    </tr>\n",
       "    <tr>\n",
       "      <th>635</th>\n",
       "      <td>Brazil</td>\n",
       "      <td>Campeonato Brasileiro SÃ©rie A</td>\n",
       "      <td>(FOR)</td>\n",
       "      <td>Wellington Paulista</td>\n",
       "      <td>13</td>\n",
       "      <td>8</td>\n",
       "      <td>1208</td>\n",
       "      <td>6</td>\n",
       "      <td>5.34</td>\n",
       "      <td>0.42</td>\n",
       "      <td>24</td>\n",
       "      <td>12</td>\n",
       "      <td>1.89</td>\n",
       "      <td>0.94</td>\n",
       "      <td>2020</td>\n",
       "    </tr>\n",
       "    <tr>\n",
       "      <th>537</th>\n",
       "      <td>Spain</td>\n",
       "      <td>La Liga</td>\n",
       "      <td>(GET)</td>\n",
       "      <td>Angel Rodriguez</td>\n",
       "      <td>3</td>\n",
       "      <td>6</td>\n",
       "      <td>501</td>\n",
       "      <td>4</td>\n",
       "      <td>2.06</td>\n",
       "      <td>0.39</td>\n",
       "      <td>14</td>\n",
       "      <td>7</td>\n",
       "      <td>2.65</td>\n",
       "      <td>1.33</td>\n",
       "      <td>2020</td>\n",
       "    </tr>\n",
       "    <tr>\n",
       "      <th>490</th>\n",
       "      <td>Netherlands</td>\n",
       "      <td>Eredivisie</td>\n",
       "      <td>(PSV)</td>\n",
       "      <td>Noni Madueke</td>\n",
       "      <td>3</td>\n",
       "      <td>7</td>\n",
       "      <td>524</td>\n",
       "      <td>4</td>\n",
       "      <td>2.87</td>\n",
       "      <td>0.52</td>\n",
       "      <td>17</td>\n",
       "      <td>7</td>\n",
       "      <td>3.08</td>\n",
       "      <td>1.27</td>\n",
       "      <td>2019</td>\n",
       "    </tr>\n",
       "    <tr>\n",
       "      <th>481</th>\n",
       "      <td>Netherlands</td>\n",
       "      <td>Eredivisie</td>\n",
       "      <td>(AJA)</td>\n",
       "      <td>Quincy Promes</td>\n",
       "      <td>4</td>\n",
       "      <td>6</td>\n",
       "      <td>574</td>\n",
       "      <td>4</td>\n",
       "      <td>2.90</td>\n",
       "      <td>0.48</td>\n",
       "      <td>22</td>\n",
       "      <td>10</td>\n",
       "      <td>3.64</td>\n",
       "      <td>1.66</td>\n",
       "      <td>2019</td>\n",
       "    </tr>\n",
       "  </tbody>\n",
       "</table>\n",
       "<p>138 rows × 15 columns</p>\n",
       "</div>"
      ],
      "text/plain": [
       "          Country                          League   Club         Player Names  \\\n",
       "140       Germany                      Bundesliga  (BAY)   Robert Lewandowski   \n",
       "24          Italy                         Serie A  (NAP)        Dries Mertens   \n",
       "37          Italy                         Serie A  (IMI)      Gonzalo Higuain   \n",
       "453       England                  Premier League  (SOU)           Danny Ings   \n",
       "123         Italy                         Serie A  (JUV)         Paulo Dybala   \n",
       "..            ...                             ...    ...                  ...   \n",
       "628        Brazil  Campeonato Brasileiro SÃ©rie A  (SAP)         Brenner None   \n",
       "635        Brazil  Campeonato Brasileiro SÃ©rie A  (FOR)  Wellington Paulista   \n",
       "537         Spain                         La Liga  (GET)      Angel Rodriguez   \n",
       "490   Netherlands                      Eredivisie  (PSV)         Noni Madueke   \n",
       "481   Netherlands                      Eredivisie  (AJA)        Quincy Promes   \n",
       "\n",
       "     Matches_Played  Substitution   Mins  Goals     xG  xG Per Avg Match  \\\n",
       "140              24              6  2247     29  26.49              1.12   \n",
       "24               28              7  2671     28  21.65              0.77   \n",
       "37               32              6  3138     24  17.84              0.54   \n",
       "453              32              6  3009     22  16.79              0.53   \n",
       "123              26              7  2407     22  11.40              0.45   \n",
       "..              ...            ...   ...    ...    ...               ...   \n",
       "628               9              6  1063      6   7.50              0.67   \n",
       "635              13              8  1208      6   5.34              0.42   \n",
       "537               3              6   501      4   2.06              0.39   \n",
       "490               3              7   524      4   2.87              0.52   \n",
       "481               4              6   574      4   2.90              0.48   \n",
       "\n",
       "     Shots  OnTarget  Shots Per Avg Match  On Target Per Avg Match  Year  \n",
       "140    127        54                 5.37                     2.28  2017  \n",
       "24     148       102                 5.26                     3.63  2016  \n",
       "37     134        91                 4.06                     2.75  2016  \n",
       "453     93        37                 2.94                     1.17  2019  \n",
       "123    114        45                 4.50                     1.78  2017  \n",
       "..     ...       ...                  ...                      ...   ...  \n",
       "628     36        14                 3.22                     1.25  2020  \n",
       "635     24        12                 1.89                     0.94  2020  \n",
       "537     14         7                 2.65                     1.33  2020  \n",
       "490     17         7                 3.08                     1.27  2019  \n",
       "481     22        10                 3.64                     1.66  2019  \n",
       "\n",
       "[138 rows x 15 columns]"
      ]
     },
     "execution_count": 9,
     "metadata": {},
     "output_type": "execute_result"
    }
   ],
   "source": [
    "df[df['Substitution ']>5].sort_values(by='Goals', ascending=False)"
   ]
  },
  {
   "cell_type": "code",
   "execution_count": 10,
   "id": "c80a9291",
   "metadata": {},
   "outputs": [
    {
     "data": {
      "text/plain": [
       "count    660.000000\n",
       "mean       3.224242\n",
       "std        3.839498\n",
       "min        0.000000\n",
       "25%        0.000000\n",
       "50%        2.000000\n",
       "75%        5.000000\n",
       "max       26.000000\n",
       "Name: Substitution , dtype: float64"
      ]
     },
     "execution_count": 10,
     "metadata": {},
     "output_type": "execute_result"
    }
   ],
   "source": [
    "df['Substitution '].describe()"
   ]
  },
  {
   "cell_type": "code",
   "execution_count": 43,
   "id": "b07e9192",
   "metadata": {},
   "outputs": [
    {
     "name": "stdout",
     "output_type": "stream",
     "text": [
      "Robert Lewandowski has scored the most number of goals as a substitute\n",
      "The exact number of goals scored by a player as a subsitute could not be calculated from the dataset.\n"
     ]
    }
   ],
   "source": [
    "print('Robert Lewandowski has scored the most number of goals as a substitute')\n",
    "print('The exact number of goals scored by a player as a subsitute could not be calculated from the dataset.')"
   ]
  },
  {
   "cell_type": "markdown",
   "id": "9ddbd80d",
   "metadata": {},
   "source": [
    "# Q3: Find the top 5 players with the most number of goals scored. Also find the total number of goals scored by them"
   ]
  },
  {
   "cell_type": "code",
   "execution_count": 12,
   "id": "2795512b",
   "metadata": {},
   "outputs": [
    {
     "name": "stdout",
     "output_type": "stream",
     "text": [
      "Top 5 Players by number of goals scored:\n",
      "          Player Names  Goals\n",
      "5    Cristiano Ronaldo     42\n",
      "12        Lionel Messi     37\n",
      "391      Ciro Immobile     36\n",
      "195       Lionel Messi     36\n",
      "317        Carlos Vela     36\n"
     ]
    }
   ],
   "source": [
    "top_5_players = df.sort_values(by=['Goals'],ascending=False)[['Player Names', 'Goals']].head()\n",
    "print('Top 5 Players by number of goals scored:')\n",
    "print(top_5_players)"
   ]
  },
  {
   "cell_type": "code",
   "execution_count": 13,
   "id": "c5bb3bbd",
   "metadata": {},
   "outputs": [
    {
     "name": "stdout",
     "output_type": "stream",
     "text": [
      "Total goals scored by the top 5 players: 187\n"
     ]
    }
   ],
   "source": [
    "top_5_goals = top_5_players['Goals'].sum()\n",
    "print('Total goals scored by the top 5 players: {}'.format(top_5_goals))"
   ]
  },
  {
   "cell_type": "markdown",
   "id": "31e7f2d0",
   "metadata": {},
   "source": [
    "# Q4: What are the top 10 countries with the most number of players in the dataset?"
   ]
  },
  {
   "cell_type": "code",
   "execution_count": 14,
   "id": "96bc6a9d",
   "metadata": {},
   "outputs": [
    {
     "data": {
      "text/plain": [
       "Player Names\n",
       "Andrea Belotti     5\n",
       "Lionel Messi       5\n",
       "Luis Suarez        5\n",
       "Andrej Kramaric    5\n",
       "Ciro Immobile      5\n",
       "                  ..\n",
       "Francois Kamano    1\n",
       "Lebo Mothiba       1\n",
       "Gaetan Laborde     1\n",
       "Falcao             1\n",
       "Cody Gakpo         1\n",
       "Name: count, Length: 444, dtype: int64"
      ]
     },
     "execution_count": 14,
     "metadata": {},
     "output_type": "execute_result"
    }
   ],
   "source": [
    "df['Player Names'].value_counts()"
   ]
  },
  {
   "cell_type": "code",
   "execution_count": 15,
   "id": "9909306c",
   "metadata": {},
   "outputs": [
    {
     "data": {
      "text/plain": [
       "Country\n",
       "Spain           100\n",
       "Italy           100\n",
       "Germany         100\n",
       "Brazil          100\n",
       "England          80\n",
       "France           60\n",
       "USA              40\n",
       "Portugal         40\n",
       " Netherlands     40\n",
       "Name: count, dtype: int64"
      ]
     },
     "execution_count": 15,
     "metadata": {},
     "output_type": "execute_result"
    }
   ],
   "source": [
    "df['Country'].value_counts()"
   ]
  },
  {
   "cell_type": "code",
   "execution_count": 16,
   "id": "71d8e66d",
   "metadata": {},
   "outputs": [
    {
     "name": "stdout",
     "output_type": "stream",
     "text": [
      "Top 10 countries with the most number of players:\n",
      "Country\n",
      "Brazil          76\n",
      "Germany         62\n",
      "Spain           59\n",
      "Italy           51\n",
      "England         50\n",
      "France          43\n",
      "Portugal        36\n",
      " Netherlands    34\n",
      "USA             33\n",
      "Name: Player Names, dtype: int64\n"
     ]
    }
   ],
   "source": [
    "df_alter = df.drop_duplicates(subset=['Player Names'])\n",
    "print('Top 10 countries with the most number of players:')\n",
    "print(df_alter.groupby(by=['Country'])['Player Names'].count().sort_values(ascending=False))"
   ]
  },
  {
   "cell_type": "markdown",
   "id": "8c0145b8",
   "metadata": {},
   "source": [
    "# Q5: # Q1. Create a new dataframe after removing the ourliers for Mins Column in the dataset (conside the upper quantile to be 99 percentile and the lower quantile to be 1 percentile.). After that Find the difference in the number of rows?\n",
    "\n",
    "* Difference is df.shape(only rows) - df.shape(rows of filtered data only)"
   ]
  },
  {
   "cell_type": "code",
   "execution_count": 17,
   "id": "b2025a47",
   "metadata": {},
   "outputs": [
    {
     "name": "stdout",
     "output_type": "stream",
     "text": [
      "3522.0 396.5\n",
      "14\n"
     ]
    }
   ],
   "source": [
    "upper = np.percentile(df['Mins'],99,method='midpoint')\n",
    "lower = np.percentile(df['Mins'],1, method='midpoint')\n",
    "print(upper, lower)\n",
    "\n",
    "upper_indices = np.where(df['Mins']>=upper)[0]\n",
    "lower_indices = np.where(df['Mins']<=lower)[0]\n",
    "\n",
    "indices_to_drop = np.concatenate((upper_indices, lower_indices))\n",
    "print(len(indices_to_drop))"
   ]
  },
  {
   "cell_type": "code",
   "execution_count": 18,
   "id": "8d99a560",
   "metadata": {},
   "outputs": [],
   "source": [
    "df_new = df.drop(index=indices_to_drop, axis=0)"
   ]
  },
  {
   "cell_type": "code",
   "execution_count": 19,
   "id": "2bf1cf55",
   "metadata": {},
   "outputs": [
    {
     "name": "stdout",
     "output_type": "stream",
     "text": [
      "Row count difference: 14\n"
     ]
    }
   ],
   "source": [
    "print('Row count difference: {}'.format(df.shape[0] - df_new.shape[0]))"
   ]
  },
  {
   "cell_type": "markdown",
   "id": "0f585553",
   "metadata": {},
   "source": [
    "# Q6: Which top 5 players have scored the maximum number of goals throughout all the years? Display them in descending order"
   ]
  },
  {
   "cell_type": "code",
   "execution_count": 20,
   "id": "e882bf65",
   "metadata": {},
   "outputs": [
    {
     "name": "stdout",
     "output_type": "stream",
     "text": [
      "The top 5 players by number of goals scored throughout all years are: \n",
      "Player Names\n",
      "Lionel Messi          135\n",
      "Cristiano Ronaldo     128\n",
      "Robert Lewandowski    127\n",
      "Ciro Immobile         107\n",
      "Luis Suarez            95\n",
      "Name: Goals, dtype: int64\n"
     ]
    }
   ],
   "source": [
    "top_5_players = df.groupby(by=['Player Names']).sum().sort_values(by=['Goals'],ascending=False)['Goals'].head(5)\n",
    "print('The top 5 players by number of goals scored throughout all years are: ')\n",
    "print(top_5_players)"
   ]
  },
  {
   "cell_type": "markdown",
   "id": "bdeed0f8",
   "metadata": {},
   "source": [
    "# Q7. Using Bar Plot show in which year has Cristiano Ronaldo scored the most number of goals?"
   ]
  },
  {
   "cell_type": "code",
   "execution_count": 21,
   "id": "85790f26",
   "metadata": {},
   "outputs": [
    {
     "data": {
      "text/html": [
       "<div>\n",
       "<style scoped>\n",
       "    .dataframe tbody tr th:only-of-type {\n",
       "        vertical-align: middle;\n",
       "    }\n",
       "\n",
       "    .dataframe tbody tr th {\n",
       "        vertical-align: top;\n",
       "    }\n",
       "\n",
       "    .dataframe thead th {\n",
       "        text-align: right;\n",
       "    }\n",
       "</style>\n",
       "<table border=\"1\" class=\"dataframe\">\n",
       "  <thead>\n",
       "    <tr style=\"text-align: right;\">\n",
       "      <th></th>\n",
       "      <th>Country</th>\n",
       "      <th>League</th>\n",
       "      <th>Club</th>\n",
       "      <th>Player Names</th>\n",
       "      <th>Matches_Played</th>\n",
       "      <th>Substitution</th>\n",
       "      <th>Mins</th>\n",
       "      <th>Goals</th>\n",
       "      <th>xG</th>\n",
       "      <th>xG Per Avg Match</th>\n",
       "      <th>Shots</th>\n",
       "      <th>OnTarget</th>\n",
       "      <th>Shots Per Avg Match</th>\n",
       "      <th>On Target Per Avg Match</th>\n",
       "      <th>Year</th>\n",
       "    </tr>\n",
       "  </thead>\n",
       "  <tbody>\n",
       "    <tr>\n",
       "      <th>5</th>\n",
       "      <td>Spain</td>\n",
       "      <td>La Liga</td>\n",
       "      <td>(JUV)</td>\n",
       "      <td>Cristiano Ronaldo</td>\n",
       "      <td>29</td>\n",
       "      <td>0</td>\n",
       "      <td>2634</td>\n",
       "      <td>42</td>\n",
       "      <td>24.68</td>\n",
       "      <td>0.89</td>\n",
       "      <td>162</td>\n",
       "      <td>60</td>\n",
       "      <td>5.84</td>\n",
       "      <td>2.16</td>\n",
       "      <td>2016</td>\n",
       "    </tr>\n",
       "    <tr>\n",
       "      <th>112</th>\n",
       "      <td>Spain</td>\n",
       "      <td>La Liga</td>\n",
       "      <td>(JUV)</td>\n",
       "      <td>Cristiano Ronaldo</td>\n",
       "      <td>27</td>\n",
       "      <td>0</td>\n",
       "      <td>2375</td>\n",
       "      <td>26</td>\n",
       "      <td>29.00</td>\n",
       "      <td>1.16</td>\n",
       "      <td>178</td>\n",
       "      <td>76</td>\n",
       "      <td>7.12</td>\n",
       "      <td>3.04</td>\n",
       "      <td>2017</td>\n",
       "    </tr>\n",
       "    <tr>\n",
       "      <th>203</th>\n",
       "      <td>Italy</td>\n",
       "      <td>Serie A</td>\n",
       "      <td>(JUV)</td>\n",
       "      <td>Cristiano Ronaldo</td>\n",
       "      <td>30</td>\n",
       "      <td>1</td>\n",
       "      <td>2857</td>\n",
       "      <td>21</td>\n",
       "      <td>21.65</td>\n",
       "      <td>0.72</td>\n",
       "      <td>177</td>\n",
       "      <td>68</td>\n",
       "      <td>5.89</td>\n",
       "      <td>2.26</td>\n",
       "      <td>2018</td>\n",
       "    </tr>\n",
       "    <tr>\n",
       "      <th>385</th>\n",
       "      <td>Italy</td>\n",
       "      <td>Serie A</td>\n",
       "      <td>(JUV)</td>\n",
       "      <td>Cristiano Ronaldo</td>\n",
       "      <td>33</td>\n",
       "      <td>0</td>\n",
       "      <td>3127</td>\n",
       "      <td>31</td>\n",
       "      <td>27.32</td>\n",
       "      <td>0.83</td>\n",
       "      <td>208</td>\n",
       "      <td>79</td>\n",
       "      <td>6.32</td>\n",
       "      <td>2.40</td>\n",
       "      <td>2019</td>\n",
       "    </tr>\n",
       "    <tr>\n",
       "      <th>553</th>\n",
       "      <td>Italy</td>\n",
       "      <td>Serie A</td>\n",
       "      <td>(JUV)</td>\n",
       "      <td>Cristiano Ronaldo</td>\n",
       "      <td>5</td>\n",
       "      <td>1</td>\n",
       "      <td>397</td>\n",
       "      <td>8</td>\n",
       "      <td>5.31</td>\n",
       "      <td>1.27</td>\n",
       "      <td>26</td>\n",
       "      <td>13</td>\n",
       "      <td>6.22</td>\n",
       "      <td>3.11</td>\n",
       "      <td>2020</td>\n",
       "    </tr>\n",
       "  </tbody>\n",
       "</table>\n",
       "</div>"
      ],
      "text/plain": [
       "    Country   League   Club       Player Names  Matches_Played  Substitution   \\\n",
       "5     Spain  La Liga  (JUV)  Cristiano Ronaldo              29              0   \n",
       "112   Spain  La Liga  (JUV)  Cristiano Ronaldo              27              0   \n",
       "203   Italy  Serie A  (JUV)  Cristiano Ronaldo              30              1   \n",
       "385   Italy  Serie A  (JUV)  Cristiano Ronaldo              33              0   \n",
       "553   Italy  Serie A  (JUV)  Cristiano Ronaldo               5              1   \n",
       "\n",
       "     Mins  Goals     xG  xG Per Avg Match  Shots  OnTarget  \\\n",
       "5    2634     42  24.68              0.89    162        60   \n",
       "112  2375     26  29.00              1.16    178        76   \n",
       "203  2857     21  21.65              0.72    177        68   \n",
       "385  3127     31  27.32              0.83    208        79   \n",
       "553   397      8   5.31              1.27     26        13   \n",
       "\n",
       "     Shots Per Avg Match  On Target Per Avg Match  Year  \n",
       "5                   5.84                     2.16  2016  \n",
       "112                 7.12                     3.04  2017  \n",
       "203                 5.89                     2.26  2018  \n",
       "385                 6.32                     2.40  2019  \n",
       "553                 6.22                     3.11  2020  "
      ]
     },
     "execution_count": 21,
     "metadata": {},
     "output_type": "execute_result"
    }
   ],
   "source": [
    "ronaldo = df[df['Player Names'] == 'Cristiano Ronaldo']\n",
    "ronaldo"
   ]
  },
  {
   "cell_type": "code",
   "execution_count": 22,
   "id": "f472dd34",
   "metadata": {},
   "outputs": [
    {
     "data": {
      "text/plain": [
       "<Axes: xlabel='Year', ylabel='Goals'>"
      ]
     },
     "execution_count": 22,
     "metadata": {},
     "output_type": "execute_result"
    },
    {
     "data": {
      "image/png": "[encoded data removed]",
      "text/plain": [
       "<Figure size 640x480 with 1 Axes>"
      ]
     },
     "metadata": {},
     "output_type": "display_data"
    }
   ],
   "source": [
    "sns.barplot(data=ronaldo, x='Year', y='Goals', order=ronaldo.sort_values(by=['Goals'], ascending=False)['Year'])"
   ]
  },
  {
   "cell_type": "markdown",
   "id": "219298ee",
   "metadata": {},
   "source": [
    "# Q8. In the year 2019 who has more Goals between Ronaldo and Messi? \n",
    "- First print them normally \n",
    "- Display the comparison using a bar plot"
   ]
  },
  {
   "cell_type": "code",
   "execution_count": 23,
   "id": "5c417e25",
   "metadata": {},
   "outputs": [
    {
     "name": "stdout",
     "output_type": "stream",
     "text": [
      "          Player Names  Goals\n",
      "385  Cristiano Ronaldo     31\n",
      "333       Lionel Messi     25\n",
      "In 2019, Ronaldo has scored more goals than Messi\n"
     ]
    }
   ],
   "source": [
    "ronaldo_2019 = df[(df['Player Names'] == 'Cristiano Ronaldo') & (df['Year'] == 2019)][['Player Names', 'Goals']]\n",
    "messi_2019 = df[(df['Player Names'] == 'Lionel Messi') & (df['Year'] == 2019)][['Player Names', 'Goals']]\n",
    "df_ronaldo_messi = pd.concat([ronaldo_2019, messi_2019])\n",
    "print(df_ronaldo_messi)\n",
    "print('In 2019, Ronaldo has scored more goals than Messi')"
   ]
  },
  {
   "cell_type": "code",
   "execution_count": 24,
   "id": "b760360b",
   "metadata": {},
   "outputs": [
    {
     "data": {
      "text/plain": [
       "<Axes: xlabel='Player Names', ylabel='Goals'>"
      ]
     },
     "execution_count": 24,
     "metadata": {},
     "output_type": "execute_result"
    },
    {
     "data": {
      "image/png": "[encoded data removed]",
      "text/plain": [
       "<Figure size 640x480 with 1 Axes>"
      ]
     },
     "metadata": {},
     "output_type": "display_data"
    }
   ],
   "source": [
    "sns.barplot(data=df_ronaldo_messi, x='Player Names', y='Goals')"
   ]
  },
  {
   "cell_type": "markdown",
   "id": "c3e2f5d8",
   "metadata": {},
   "source": [
    "# Q9: Using Pie Chart show the amount of data various Countries are containing in this dataset(use the Country Columns Display the percentage of data as well in the pie chart"
   ]
  },
  {
   "cell_type": "code",
   "execution_count": 25,
   "id": "7d234400",
   "metadata": {},
   "outputs": [
    {
     "data": {
      "text/html": [
       "<div>\n",
       "<style scoped>\n",
       "    .dataframe tbody tr th:only-of-type {\n",
       "        vertical-align: middle;\n",
       "    }\n",
       "\n",
       "    .dataframe tbody tr th {\n",
       "        vertical-align: top;\n",
       "    }\n",
       "\n",
       "    .dataframe thead th {\n",
       "        text-align: right;\n",
       "    }\n",
       "</style>\n",
       "<table border=\"1\" class=\"dataframe\">\n",
       "  <thead>\n",
       "    <tr style=\"text-align: right;\">\n",
       "      <th></th>\n",
       "      <th>Country</th>\n",
       "      <th>count</th>\n",
       "    </tr>\n",
       "  </thead>\n",
       "  <tbody>\n",
       "    <tr>\n",
       "      <th>0</th>\n",
       "      <td>Spain</td>\n",
       "      <td>100</td>\n",
       "    </tr>\n",
       "    <tr>\n",
       "      <th>1</th>\n",
       "      <td>Italy</td>\n",
       "      <td>100</td>\n",
       "    </tr>\n",
       "    <tr>\n",
       "      <th>2</th>\n",
       "      <td>Germany</td>\n",
       "      <td>100</td>\n",
       "    </tr>\n",
       "    <tr>\n",
       "      <th>3</th>\n",
       "      <td>Brazil</td>\n",
       "      <td>100</td>\n",
       "    </tr>\n",
       "    <tr>\n",
       "      <th>4</th>\n",
       "      <td>England</td>\n",
       "      <td>80</td>\n",
       "    </tr>\n",
       "    <tr>\n",
       "      <th>5</th>\n",
       "      <td>France</td>\n",
       "      <td>60</td>\n",
       "    </tr>\n",
       "    <tr>\n",
       "      <th>6</th>\n",
       "      <td>USA</td>\n",
       "      <td>40</td>\n",
       "    </tr>\n",
       "    <tr>\n",
       "      <th>7</th>\n",
       "      <td>Portugal</td>\n",
       "      <td>40</td>\n",
       "    </tr>\n",
       "    <tr>\n",
       "      <th>8</th>\n",
       "      <td>Netherlands</td>\n",
       "      <td>40</td>\n",
       "    </tr>\n",
       "  </tbody>\n",
       "</table>\n",
       "</div>"
      ],
      "text/plain": [
       "        Country  count\n",
       "0         Spain    100\n",
       "1         Italy    100\n",
       "2       Germany    100\n",
       "3        Brazil    100\n",
       "4       England     80\n",
       "5        France     60\n",
       "6           USA     40\n",
       "7     Portugal      40\n",
       "8   Netherlands     40"
      ]
     },
     "execution_count": 25,
     "metadata": {},
     "output_type": "execute_result"
    }
   ],
   "source": [
    "df_country = pd.DataFrame(df['Country'].value_counts()).reset_index()\n",
    "df_country"
   ]
  },
  {
   "cell_type": "code",
   "execution_count": 26,
   "id": "23bb15e5",
   "metadata": {},
   "outputs": [
    {
     "data": {
      "image/png": "[encoded data removed]",
      "text/plain": [
       "<Figure size 640x480 with 1 Axes>"
      ]
     },
     "metadata": {},
     "output_type": "display_data"
    }
   ],
   "source": [
    "plt.pie(x=df_country['count'], labels=df_country['Country'], autopct='%.0f%%')\n",
    "plt.show()"
   ]
  },
  {
   "cell_type": "markdown",
   "id": "0d8f8d37",
   "metadata": {},
   "source": [
    "# Q10: Display a Heatmap  to show the correlation between the columns in the dataset. The heatmap should have the value of the correlation printed within the boxes."
   ]
  },
  {
   "cell_type": "code",
   "execution_count": 27,
   "id": "61e46fe6",
   "metadata": {},
   "outputs": [
    {
     "data": {
      "text/plain": [
       "<Axes: >"
      ]
     },
     "execution_count": 27,
     "metadata": {},
     "output_type": "execute_result"
    },
    {
     "data": {
      "image/png": "[encoded data removed]",
      "text/plain": [
       "<Figure size 640x480 with 2 Axes>"
      ]
     },
     "metadata": {},
     "output_type": "display_data"
    }
   ],
   "source": [
    "sns.heatmap(df.corr(numeric_only=True),annot=True, fmt='.1f')"
   ]
  },
  {
   "cell_type": "markdown",
   "id": "f87975fb",
   "metadata": {},
   "source": [
    "# Q11: Which Country has the maximum median OnTarget Shots among all the Countries in the year 2020?"
   ]
  },
  {
   "cell_type": "code",
   "execution_count": 28,
   "id": "6663991c",
   "metadata": {},
   "outputs": [
    {
     "data": {
      "text/plain": [
       "Country\n",
       " Netherlands    25.5\n",
       "USA             20.0\n",
       "Brazil          17.0\n",
       "England         10.5\n",
       "Italy           10.0\n",
       "France           9.5\n",
       "Germany          9.0\n",
       "Spain            8.0\n",
       "Name: OnTarget, dtype: float64"
      ]
     },
     "execution_count": 28,
     "metadata": {},
     "output_type": "execute_result"
    }
   ],
   "source": [
    "df[df['Year']==2020].groupby(by=['Country'])['OnTarget'].median().sort_values(ascending=False)"
   ]
  },
  {
   "cell_type": "code",
   "execution_count": 29,
   "id": "310f091a",
   "metadata": {},
   "outputs": [
    {
     "name": "stdout",
     "output_type": "stream",
     "text": [
      "Netherlands has the maximum median OnTarget Shots for the year 2020\n"
     ]
    }
   ],
   "source": [
    "print('Netherlands has the maximum median OnTarget Shots for the year 2020')"
   ]
  },
  {
   "cell_type": "markdown",
   "id": "5f69be41",
   "metadata": {},
   "source": [
    "# Q12. Who has the best average  Goals per minute?\n",
    "* Consider only those players who have played more than 30 games\n",
    "* Then Find Goals per minute\n",
    "* Find Mean of Goals per minute and sort the values"
   ]
  },
  {
   "cell_type": "code",
   "execution_count": 30,
   "id": "cedf79a7",
   "metadata": {},
   "outputs": [
    {
     "name": "stderr",
     "output_type": "stream",
     "text": [
      "C:\\Users\\mohit\\AppData\\Local\\Temp\\ipykernel_16276\\2777743675.py:2: SettingWithCopyWarning: \n",
      "A value is trying to be set on a copy of a slice from a DataFrame.\n",
      "Try using .loc[row_indexer,col_indexer] = value instead\n",
      "\n",
      "See the caveats in the documentation: https://pandas.pydata.org/pandas-docs/stable/user_guide/indexing.html#returning-a-view-versus-a-copy\n",
      "  df_30['Goals_per_min'] = df_30['Goals']/df_30['Mins']\n"
     ]
    }
   ],
   "source": [
    "df_30 = df[df['Matches_Played']>30]\n",
    "df_30['Goals_per_min'] = df_30['Goals']/df_30['Mins']"
   ]
  },
  {
   "cell_type": "code",
   "execution_count": 31,
   "id": "06af824a",
   "metadata": {},
   "outputs": [
    {
     "data": {
      "text/plain": [
       "Player Names\n",
       "Carlos Vela           0.011509\n",
       "Lionel Messi          0.010478\n",
       "Zlatan Ibrahimovic    0.010340\n",
       "Timo Werner           0.010204\n",
       "Robert Lewandowski    0.009929\n",
       "                        ...   \n",
       "Jose Callejon         0.002977\n",
       "Arthur Caike          0.002833\n",
       "Dudu                  0.002717\n",
       "Cicero Semedo         0.002709\n",
       "Artur                 0.002296\n",
       "Name: Goals_per_min, Length: 130, dtype: float64"
      ]
     },
     "execution_count": 31,
     "metadata": {},
     "output_type": "execute_result"
    }
   ],
   "source": [
    "df_30.groupby(by='Player Names')['Goals_per_min'].mean().sort_values(ascending=False)"
   ]
  },
  {
   "cell_type": "code",
   "execution_count": 32,
   "id": "dc993214",
   "metadata": {},
   "outputs": [
    {
     "name": "stdout",
     "output_type": "stream",
     "text": [
      "Carlos Vela has the highest average goals per minute\n"
     ]
    }
   ],
   "source": [
    "print('Carlos Vela has the highest average goals per minute')"
   ]
  },
  {
   "cell_type": "markdown",
   "id": "7a2ce78e",
   "metadata": {},
   "source": [
    "# Q 13. Which Player has the least and most number of missed shots in the dataset?\n",
    "* Missed Shots=Shots-On Target"
   ]
  },
  {
   "cell_type": "code",
   "execution_count": 33,
   "id": "73508b39",
   "metadata": {},
   "outputs": [],
   "source": [
    "df['Missed Shots'] = df['Shots'] - df['OnTarget']"
   ]
  },
  {
   "cell_type": "code",
   "execution_count": 34,
   "id": "2037d7e2",
   "metadata": {},
   "outputs": [
    {
     "data": {
      "text/plain": [
       "Player Names\n",
       "Esteban Burgos          1\n",
       "Adam Szalai            3\n",
       "Carlos Soler            3\n",
       "James Ward-Prowse       3\n",
       "Eduardo Mancha          3\n",
       "                     ... \n",
       "Fabio Quagliarella    274\n",
       "Robert Lewandowski    312\n",
       "Edin Dzeko            332\n",
       "Lionel Messi          399\n",
       "Cristiano Ronaldo     455\n",
       "Name: Missed Shots, Length: 444, dtype: int64"
      ]
     },
     "execution_count": 34,
     "metadata": {},
     "output_type": "execute_result"
    }
   ],
   "source": [
    "df.groupby(by=['Player Names'])['Missed Shots'].sum().sort_values()"
   ]
  },
  {
   "cell_type": "code",
   "execution_count": 35,
   "id": "945102f0",
   "metadata": {},
   "outputs": [
    {
     "name": "stdout",
     "output_type": "stream",
     "text": [
      "Esteban Burgos has the least number of missed shots(1) while Cristiano Ronaldo has the maximum number of missed shots(455)\n"
     ]
    }
   ],
   "source": [
    "print('Esteban Burgos has the least number of missed shots(1) while Cristiano Ronaldo has the maximum number of missed shots(455)')"
   ]
  },
  {
   "cell_type": "markdown",
   "id": "f66c59df",
   "metadata": {},
   "source": [
    "# Q14: How many countries have had players who played more than 35 matches? Create a bar plot to display the count for each country."
   ]
  },
  {
   "cell_type": "code",
   "execution_count": 36,
   "id": "15c3fde6",
   "metadata": {},
   "outputs": [],
   "source": [
    "df_35_matches = df[df['Matches_Played'] > 35]\n",
    "df_35_freq = pd.DataFrame(df_35_matches.groupby(by='Country')['Player Names'].count())"
   ]
  },
  {
   "cell_type": "code",
   "execution_count": 37,
   "id": "e7d9277b",
   "metadata": {},
   "outputs": [],
   "source": [
    "df_35_freq = df_35_freq.reset_index()"
   ]
  },
  {
   "cell_type": "code",
   "execution_count": 38,
   "id": "b457c0f0",
   "metadata": {},
   "outputs": [],
   "source": [
    "df_35_freq.rename(columns={'Player Names': 'Count of Players'}, inplace=True)"
   ]
  },
  {
   "cell_type": "code",
   "execution_count": 39,
   "id": "889ba941",
   "metadata": {},
   "outputs": [
    {
     "data": {
      "text/plain": [
       "<Axes: xlabel='Country', ylabel='Count of Players'>"
      ]
     },
     "execution_count": 39,
     "metadata": {},
     "output_type": "execute_result"
    },
    {
     "data": {
      "image/png": "[encoded data removed]",
      "text/plain": [
       "<Figure size 640x480 with 1 Axes>"
      ]
     },
     "metadata": {},
     "output_type": "display_data"
    }
   ],
   "source": [
    "sns.barplot(data=df_35_freq, x='Country', y='Count of Players')"
   ]
  },
  {
   "cell_type": "markdown",
   "id": "b496d3ed",
   "metadata": {},
   "source": [
    "# Q15: Draw a Line Chart to show the comparison of the top 5 highest scoring players in the dataset throughout the years(2016-2020)"
   ]
  },
  {
   "cell_type": "code",
   "execution_count": 40,
   "id": "fac7d0b1",
   "metadata": {},
   "outputs": [
    {
     "data": {
      "text/html": [
       "<div>\n",
       "<style scoped>\n",
       "    .dataframe tbody tr th:only-of-type {\n",
       "        vertical-align: middle;\n",
       "    }\n",
       "\n",
       "    .dataframe tbody tr th {\n",
       "        vertical-align: top;\n",
       "    }\n",
       "\n",
       "    .dataframe thead th {\n",
       "        text-align: right;\n",
       "    }\n",
       "</style>\n",
       "<table border=\"1\" class=\"dataframe\">\n",
       "  <thead>\n",
       "    <tr style=\"text-align: right;\">\n",
       "      <th></th>\n",
       "      <th>Player Names</th>\n",
       "      <th>Goals</th>\n",
       "    </tr>\n",
       "  </thead>\n",
       "  <tbody>\n",
       "    <tr>\n",
       "      <th>0</th>\n",
       "      <td>Lionel Messi</td>\n",
       "      <td>135</td>\n",
       "    </tr>\n",
       "    <tr>\n",
       "      <th>1</th>\n",
       "      <td>Cristiano Ronaldo</td>\n",
       "      <td>128</td>\n",
       "    </tr>\n",
       "    <tr>\n",
       "      <th>2</th>\n",
       "      <td>Robert Lewandowski</td>\n",
       "      <td>127</td>\n",
       "    </tr>\n",
       "    <tr>\n",
       "      <th>3</th>\n",
       "      <td>Ciro Immobile</td>\n",
       "      <td>107</td>\n",
       "    </tr>\n",
       "    <tr>\n",
       "      <th>4</th>\n",
       "      <td>Luis Suarez</td>\n",
       "      <td>95</td>\n",
       "    </tr>\n",
       "  </tbody>\n",
       "</table>\n",
       "</div>"
      ],
      "text/plain": [
       "         Player Names  Goals\n",
       "0        Lionel Messi    135\n",
       "1   Cristiano Ronaldo    128\n",
       "2  Robert Lewandowski    127\n",
       "3       Ciro Immobile    107\n",
       "4         Luis Suarez     95"
      ]
     },
     "execution_count": 40,
     "metadata": {},
     "output_type": "execute_result"
    }
   ],
   "source": [
    "df_top_5= pd.DataFrame(top_5_players).reset_index()\n",
    "df_top_5"
   ]
  },
  {
   "cell_type": "code",
   "execution_count": 41,
   "id": "2761e9ae",
   "metadata": {},
   "outputs": [],
   "source": [
    "df_comp = df[df['Player Names'].isin(df_top_5['Player Names'])]\n",
    "df_comp = df_comp.astype({'Year':str})"
   ]
  },
  {
   "cell_type": "code",
   "execution_count": 42,
   "id": "f823e1a9",
   "metadata": {},
   "outputs": [
    {
     "data": {
      "text/plain": [
       "<Axes: xlabel='Year', ylabel='Goals'>"
      ]
     },
     "execution_count": 42,
     "metadata": {},
     "output_type": "execute_result"
    },
    {
     "data": {
      "image/png": "[encoded data removed]",
      "text/plain": [
       "<Figure size 640x480 with 1 Axes>"
      ]
     },
     "metadata": {},
     "output_type": "display_data"
    }
   ],
   "source": [
    "sns.lineplot(data=df_comp, x='Year', y='Goals', hue='Player Names')"
   ]
  }
 ],
 "metadata": {
  "kernelspec": {
   "display_name": "Python 3 (ipykernel)",
   "language": "python",
   "name": "python3"
  },
  "language_info": {
   "codemirror_mode": {
    "name": "ipython",
    "version": 3
   },
   "file_extension": ".py",
   "mimetype": "text/x-python",
   "name": "python",
   "nbconvert_exporter": "python",
   "pygments_lexer": "ipython3",
   "version": "3.10.11"
  }
 },
 "nbformat": 4,
 "nbformat_minor": 5
}
